{
  "nbformat": 4,
  "nbformat_minor": 0,
  "metadata": {
    "colab": {
      "provenance": [],
      "authorship_tag": "ABX9TyPzfOGm1AXFOLbh0sCO5Ywi",
      "include_colab_link": true
    },
    "kernelspec": {
      "name": "python3",
      "display_name": "Python 3"
    },
    "language_info": {
      "name": "python"
    },
    "widgets": {
      "application/vnd.jupyter.widget-state+json": {
        "e58295b02114460c83e6a942c4f0275e": {
          "model_module": "@jupyter-widgets/controls",
          "model_name": "HBoxModel",
          "model_module_version": "1.5.0",
          "state": {
            "_dom_classes": [],
            "_model_module": "@jupyter-widgets/controls",
            "_model_module_version": "1.5.0",
            "_model_name": "HBoxModel",
            "_view_count": null,
            "_view_module": "@jupyter-widgets/controls",
            "_view_module_version": "1.5.0",
            "_view_name": "HBoxView",
            "box_style": "",
            "children": [
              "IPY_MODEL_516dd055c21d4ae1b92a2381633a5148",
              "IPY_MODEL_92a292aec62e40ff8a34c0b394e80ad5",
              "IPY_MODEL_abfb9bb726814c8d97566d7b0a521444"
            ],
            "layout": "IPY_MODEL_2e8ad8db93c04addbb94da2dae2f1c01"
          }
        },
        "516dd055c21d4ae1b92a2381633a5148": {
          "model_module": "@jupyter-widgets/controls",
          "model_name": "HTMLModel",
          "model_module_version": "1.5.0",
          "state": {
            "_dom_classes": [],
            "_model_module": "@jupyter-widgets/controls",
            "_model_module_version": "1.5.0",
            "_model_name": "HTMLModel",
            "_view_count": null,
            "_view_module": "@jupyter-widgets/controls",
            "_view_module_version": "1.5.0",
            "_view_name": "HTMLView",
            "description": "",
            "description_tooltip": null,
            "layout": "IPY_MODEL_96adc6072550443db78f054bb99c8723",
            "placeholder": "​",
            "style": "IPY_MODEL_fee5dfa041854cd596a8abf4144169ed",
            "value": "Downloading concrete_data_week3.zip: 100%"
          }
        },
        "92a292aec62e40ff8a34c0b394e80ad5": {
          "model_module": "@jupyter-widgets/controls",
          "model_name": "FloatProgressModel",
          "model_module_version": "1.5.0",
          "state": {
            "_dom_classes": [],
            "_model_module": "@jupyter-widgets/controls",
            "_model_module_version": "1.5.0",
            "_model_name": "FloatProgressModel",
            "_view_count": null,
            "_view_module": "@jupyter-widgets/controls",
            "_view_module_version": "1.5.0",
            "_view_name": "ProgressView",
            "bar_style": "success",
            "description": "",
            "description_tooltip": null,
            "layout": "IPY_MODEL_20eb02ccbe3b4b52aefa7c8b81ad8de8",
            "max": 261482368,
            "min": 0,
            "orientation": "horizontal",
            "style": "IPY_MODEL_a27a9ff88fa74d2b8515c88b3f8eaf05",
            "value": 261482368
          }
        },
        "abfb9bb726814c8d97566d7b0a521444": {
          "model_module": "@jupyter-widgets/controls",
          "model_name": "HTMLModel",
          "model_module_version": "1.5.0",
          "state": {
            "_dom_classes": [],
            "_model_module": "@jupyter-widgets/controls",
            "_model_module_version": "1.5.0",
            "_model_name": "HTMLModel",
            "_view_count": null,
            "_view_module": "@jupyter-widgets/controls",
            "_view_module_version": "1.5.0",
            "_view_name": "HTMLView",
            "description": "",
            "description_tooltip": null,
            "layout": "IPY_MODEL_19faf0036eb54460837b357d6249f9e8",
            "placeholder": "​",
            "style": "IPY_MODEL_50e7057e28534b319a9624d1f57b01d9",
            "value": " 261482368/261482368 [00:07&lt;00:00, 37235171.87it/s]"
          }
        },
        "2e8ad8db93c04addbb94da2dae2f1c01": {
          "model_module": "@jupyter-widgets/base",
          "model_name": "LayoutModel",
          "model_module_version": "1.2.0",
          "state": {
            "_model_module": "@jupyter-widgets/base",
            "_model_module_version": "1.2.0",
            "_model_name": "LayoutModel",
            "_view_count": null,
            "_view_module": "@jupyter-widgets/base",
            "_view_module_version": "1.2.0",
            "_view_name": "LayoutView",
            "align_content": null,
            "align_items": null,
            "align_self": null,
            "border": null,
            "bottom": null,
            "display": null,
            "flex": null,
            "flex_flow": null,
            "grid_area": null,
            "grid_auto_columns": null,
            "grid_auto_flow": null,
            "grid_auto_rows": null,
            "grid_column": null,
            "grid_gap": null,
            "grid_row": null,
            "grid_template_areas": null,
            "grid_template_columns": null,
            "grid_template_rows": null,
            "height": null,
            "justify_content": null,
            "justify_items": null,
            "left": null,
            "margin": null,
            "max_height": null,
            "max_width": null,
            "min_height": null,
            "min_width": null,
            "object_fit": null,
            "object_position": null,
            "order": null,
            "overflow": null,
            "overflow_x": null,
            "overflow_y": null,
            "padding": null,
            "right": null,
            "top": null,
            "visibility": null,
            "width": null
          }
        },
        "96adc6072550443db78f054bb99c8723": {
          "model_module": "@jupyter-widgets/base",
          "model_name": "LayoutModel",
          "model_module_version": "1.2.0",
          "state": {
            "_model_module": "@jupyter-widgets/base",
            "_model_module_version": "1.2.0",
            "_model_name": "LayoutModel",
            "_view_count": null,
            "_view_module": "@jupyter-widgets/base",
            "_view_module_version": "1.2.0",
            "_view_name": "LayoutView",
            "align_content": null,
            "align_items": null,
            "align_self": null,
            "border": null,
            "bottom": null,
            "display": null,
            "flex": null,
            "flex_flow": null,
            "grid_area": null,
            "grid_auto_columns": null,
            "grid_auto_flow": null,
            "grid_auto_rows": null,
            "grid_column": null,
            "grid_gap": null,
            "grid_row": null,
            "grid_template_areas": null,
            "grid_template_columns": null,
            "grid_template_rows": null,
            "height": null,
            "justify_content": null,
            "justify_items": null,
            "left": null,
            "margin": null,
            "max_height": null,
            "max_width": null,
            "min_height": null,
            "min_width": null,
            "object_fit": null,
            "object_position": null,
            "order": null,
            "overflow": null,
            "overflow_x": null,
            "overflow_y": null,
            "padding": null,
            "right": null,
            "top": null,
            "visibility": null,
            "width": null
          }
        },
        "fee5dfa041854cd596a8abf4144169ed": {
          "model_module": "@jupyter-widgets/controls",
          "model_name": "DescriptionStyleModel",
          "model_module_version": "1.5.0",
          "state": {
            "_model_module": "@jupyter-widgets/controls",
            "_model_module_version": "1.5.0",
            "_model_name": "DescriptionStyleModel",
            "_view_count": null,
            "_view_module": "@jupyter-widgets/base",
            "_view_module_version": "1.2.0",
            "_view_name": "StyleView",
            "description_width": ""
          }
        },
        "20eb02ccbe3b4b52aefa7c8b81ad8de8": {
          "model_module": "@jupyter-widgets/base",
          "model_name": "LayoutModel",
          "model_module_version": "1.2.0",
          "state": {
            "_model_module": "@jupyter-widgets/base",
            "_model_module_version": "1.2.0",
            "_model_name": "LayoutModel",
            "_view_count": null,
            "_view_module": "@jupyter-widgets/base",
            "_view_module_version": "1.2.0",
            "_view_name": "LayoutView",
            "align_content": null,
            "align_items": null,
            "align_self": null,
            "border": null,
            "bottom": null,
            "display": null,
            "flex": null,
            "flex_flow": null,
            "grid_area": null,
            "grid_auto_columns": null,
            "grid_auto_flow": null,
            "grid_auto_rows": null,
            "grid_column": null,
            "grid_gap": null,
            "grid_row": null,
            "grid_template_areas": null,
            "grid_template_columns": null,
            "grid_template_rows": null,
            "height": null,
            "justify_content": null,
            "justify_items": null,
            "left": null,
            "margin": null,
            "max_height": null,
            "max_width": null,
            "min_height": null,
            "min_width": null,
            "object_fit": null,
            "object_position": null,
            "order": null,
            "overflow": null,
            "overflow_x": null,
            "overflow_y": null,
            "padding": null,
            "right": null,
            "top": null,
            "visibility": null,
            "width": null
          }
        },
        "a27a9ff88fa74d2b8515c88b3f8eaf05": {
          "model_module": "@jupyter-widgets/controls",
          "model_name": "ProgressStyleModel",
          "model_module_version": "1.5.0",
          "state": {
            "_model_module": "@jupyter-widgets/controls",
            "_model_module_version": "1.5.0",
            "_model_name": "ProgressStyleModel",
            "_view_count": null,
            "_view_module": "@jupyter-widgets/base",
            "_view_module_version": "1.2.0",
            "_view_name": "StyleView",
            "bar_color": null,
            "description_width": ""
          }
        },
        "19faf0036eb54460837b357d6249f9e8": {
          "model_module": "@jupyter-widgets/base",
          "model_name": "LayoutModel",
          "model_module_version": "1.2.0",
          "state": {
            "_model_module": "@jupyter-widgets/base",
            "_model_module_version": "1.2.0",
            "_model_name": "LayoutModel",
            "_view_count": null,
            "_view_module": "@jupyter-widgets/base",
            "_view_module_version": "1.2.0",
            "_view_name": "LayoutView",
            "align_content": null,
            "align_items": null,
            "align_self": null,
            "border": null,
            "bottom": null,
            "display": null,
            "flex": null,
            "flex_flow": null,
            "grid_area": null,
            "grid_auto_columns": null,
            "grid_auto_flow": null,
            "grid_auto_rows": null,
            "grid_column": null,
            "grid_gap": null,
            "grid_row": null,
            "grid_template_areas": null,
            "grid_template_columns": null,
            "grid_template_rows": null,
            "height": null,
            "justify_content": null,
            "justify_items": null,
            "left": null,
            "margin": null,
            "max_height": null,
            "max_width": null,
            "min_height": null,
            "min_width": null,
            "object_fit": null,
            "object_position": null,
            "order": null,
            "overflow": null,
            "overflow_x": null,
            "overflow_y": null,
            "padding": null,
            "right": null,
            "top": null,
            "visibility": null,
            "width": null
          }
        },
        "50e7057e28534b319a9624d1f57b01d9": {
          "model_module": "@jupyter-widgets/controls",
          "model_name": "DescriptionStyleModel",
          "model_module_version": "1.5.0",
          "state": {
            "_model_module": "@jupyter-widgets/controls",
            "_model_module_version": "1.5.0",
            "_model_name": "DescriptionStyleModel",
            "_view_count": null,
            "_view_module": "@jupyter-widgets/base",
            "_view_module_version": "1.2.0",
            "_view_name": "StyleView",
            "description_width": ""
          }
        },
        "33578f708ae1463cb9c333264663d065": {
          "model_module": "@jupyter-widgets/controls",
          "model_name": "HBoxModel",
          "model_module_version": "1.5.0",
          "state": {
            "_dom_classes": [],
            "_model_module": "@jupyter-widgets/controls",
            "_model_module_version": "1.5.0",
            "_model_name": "HBoxModel",
            "_view_count": null,
            "_view_module": "@jupyter-widgets/controls",
            "_view_module_version": "1.5.0",
            "_view_name": "HBoxView",
            "box_style": "",
            "children": [
              "IPY_MODEL_8feb71a5199a4a86a23742a8c6a8608b",
              "IPY_MODEL_cd0064d4581d4b40bae6c30dfa71ecb7",
              "IPY_MODEL_1a060fc1a1f94c99b1417de06b318775"
            ],
            "layout": "IPY_MODEL_d0cd6ae9a26d4f83ae61074d5918bd9e"
          }
        },
        "8feb71a5199a4a86a23742a8c6a8608b": {
          "model_module": "@jupyter-widgets/controls",
          "model_name": "HTMLModel",
          "model_module_version": "1.5.0",
          "state": {
            "_dom_classes": [],
            "_model_module": "@jupyter-widgets/controls",
            "_model_module_version": "1.5.0",
            "_model_name": "HTMLModel",
            "_view_count": null,
            "_view_module": "@jupyter-widgets/controls",
            "_view_module_version": "1.5.0",
            "_view_name": "HTMLView",
            "description": "",
            "description_tooltip": null,
            "layout": "IPY_MODEL_702ce89784674f318e354431f928485e",
            "placeholder": "​",
            "style": "IPY_MODEL_be07503e11644a62bb9ae7c71ee78ba9",
            "value": "Extracting concrete_data_week3.zip: 100%"
          }
        },
        "cd0064d4581d4b40bae6c30dfa71ecb7": {
          "model_module": "@jupyter-widgets/controls",
          "model_name": "FloatProgressModel",
          "model_module_version": "1.5.0",
          "state": {
            "_dom_classes": [],
            "_model_module": "@jupyter-widgets/controls",
            "_model_module_version": "1.5.0",
            "_model_name": "FloatProgressModel",
            "_view_count": null,
            "_view_module": "@jupyter-widgets/controls",
            "_view_module_version": "1.5.0",
            "_view_name": "ProgressView",
            "bar_style": "success",
            "description": "",
            "description_tooltip": null,
            "layout": "IPY_MODEL_ea744f91d24842a79cd29f37dc202d91",
            "max": 80037,
            "min": 0,
            "orientation": "horizontal",
            "style": "IPY_MODEL_e417f0cdc39748d283daf4ce6b2f0b61",
            "value": 80037
          }
        },
        "1a060fc1a1f94c99b1417de06b318775": {
          "model_module": "@jupyter-widgets/controls",
          "model_name": "HTMLModel",
          "model_module_version": "1.5.0",
          "state": {
            "_dom_classes": [],
            "_model_module": "@jupyter-widgets/controls",
            "_model_module_version": "1.5.0",
            "_model_name": "HTMLModel",
            "_view_count": null,
            "_view_module": "@jupyter-widgets/controls",
            "_view_module_version": "1.5.0",
            "_view_name": "HTMLView",
            "description": "",
            "description_tooltip": null,
            "layout": "IPY_MODEL_fa2444ec64f64afe88ba138fb82c96e3",
            "placeholder": "​",
            "style": "IPY_MODEL_d06c665635ee48689726ff9e005e297a",
            "value": " 80037/80037 [00:11&lt;00:00, 7508.91it/s]"
          }
        },
        "d0cd6ae9a26d4f83ae61074d5918bd9e": {
          "model_module": "@jupyter-widgets/base",
          "model_name": "LayoutModel",
          "model_module_version": "1.2.0",
          "state": {
            "_model_module": "@jupyter-widgets/base",
            "_model_module_version": "1.2.0",
            "_model_name": "LayoutModel",
            "_view_count": null,
            "_view_module": "@jupyter-widgets/base",
            "_view_module_version": "1.2.0",
            "_view_name": "LayoutView",
            "align_content": null,
            "align_items": null,
            "align_self": null,
            "border": null,
            "bottom": null,
            "display": null,
            "flex": null,
            "flex_flow": null,
            "grid_area": null,
            "grid_auto_columns": null,
            "grid_auto_flow": null,
            "grid_auto_rows": null,
            "grid_column": null,
            "grid_gap": null,
            "grid_row": null,
            "grid_template_areas": null,
            "grid_template_columns": null,
            "grid_template_rows": null,
            "height": null,
            "justify_content": null,
            "justify_items": null,
            "left": null,
            "margin": null,
            "max_height": null,
            "max_width": null,
            "min_height": null,
            "min_width": null,
            "object_fit": null,
            "object_position": null,
            "order": null,
            "overflow": null,
            "overflow_x": null,
            "overflow_y": null,
            "padding": null,
            "right": null,
            "top": null,
            "visibility": null,
            "width": null
          }
        },
        "702ce89784674f318e354431f928485e": {
          "model_module": "@jupyter-widgets/base",
          "model_name": "LayoutModel",
          "model_module_version": "1.2.0",
          "state": {
            "_model_module": "@jupyter-widgets/base",
            "_model_module_version": "1.2.0",
            "_model_name": "LayoutModel",
            "_view_count": null,
            "_view_module": "@jupyter-widgets/base",
            "_view_module_version": "1.2.0",
            "_view_name": "LayoutView",
            "align_content": null,
            "align_items": null,
            "align_self": null,
            "border": null,
            "bottom": null,
            "display": null,
            "flex": null,
            "flex_flow": null,
            "grid_area": null,
            "grid_auto_columns": null,
            "grid_auto_flow": null,
            "grid_auto_rows": null,
            "grid_column": null,
            "grid_gap": null,
            "grid_row": null,
            "grid_template_areas": null,
            "grid_template_columns": null,
            "grid_template_rows": null,
            "height": null,
            "justify_content": null,
            "justify_items": null,
            "left": null,
            "margin": null,
            "max_height": null,
            "max_width": null,
            "min_height": null,
            "min_width": null,
            "object_fit": null,
            "object_position": null,
            "order": null,
            "overflow": null,
            "overflow_x": null,
            "overflow_y": null,
            "padding": null,
            "right": null,
            "top": null,
            "visibility": null,
            "width": null
          }
        },
        "be07503e11644a62bb9ae7c71ee78ba9": {
          "model_module": "@jupyter-widgets/controls",
          "model_name": "DescriptionStyleModel",
          "model_module_version": "1.5.0",
          "state": {
            "_model_module": "@jupyter-widgets/controls",
            "_model_module_version": "1.5.0",
            "_model_name": "DescriptionStyleModel",
            "_view_count": null,
            "_view_module": "@jupyter-widgets/base",
            "_view_module_version": "1.2.0",
            "_view_name": "StyleView",
            "description_width": ""
          }
        },
        "ea744f91d24842a79cd29f37dc202d91": {
          "model_module": "@jupyter-widgets/base",
          "model_name": "LayoutModel",
          "model_module_version": "1.2.0",
          "state": {
            "_model_module": "@jupyter-widgets/base",
            "_model_module_version": "1.2.0",
            "_model_name": "LayoutModel",
            "_view_count": null,
            "_view_module": "@jupyter-widgets/base",
            "_view_module_version": "1.2.0",
            "_view_name": "LayoutView",
            "align_content": null,
            "align_items": null,
            "align_self": null,
            "border": null,
            "bottom": null,
            "display": null,
            "flex": null,
            "flex_flow": null,
            "grid_area": null,
            "grid_auto_columns": null,
            "grid_auto_flow": null,
            "grid_auto_rows": null,
            "grid_column": null,
            "grid_gap": null,
            "grid_row": null,
            "grid_template_areas": null,
            "grid_template_columns": null,
            "grid_template_rows": null,
            "height": null,
            "justify_content": null,
            "justify_items": null,
            "left": null,
            "margin": null,
            "max_height": null,
            "max_width": null,
            "min_height": null,
            "min_width": null,
            "object_fit": null,
            "object_position": null,
            "order": null,
            "overflow": null,
            "overflow_x": null,
            "overflow_y": null,
            "padding": null,
            "right": null,
            "top": null,
            "visibility": null,
            "width": null
          }
        },
        "e417f0cdc39748d283daf4ce6b2f0b61": {
          "model_module": "@jupyter-widgets/controls",
          "model_name": "ProgressStyleModel",
          "model_module_version": "1.5.0",
          "state": {
            "_model_module": "@jupyter-widgets/controls",
            "_model_module_version": "1.5.0",
            "_model_name": "ProgressStyleModel",
            "_view_count": null,
            "_view_module": "@jupyter-widgets/base",
            "_view_module_version": "1.2.0",
            "_view_name": "StyleView",
            "bar_color": null,
            "description_width": ""
          }
        },
        "fa2444ec64f64afe88ba138fb82c96e3": {
          "model_module": "@jupyter-widgets/base",
          "model_name": "LayoutModel",
          "model_module_version": "1.2.0",
          "state": {
            "_model_module": "@jupyter-widgets/base",
            "_model_module_version": "1.2.0",
            "_model_name": "LayoutModel",
            "_view_count": null,
            "_view_module": "@jupyter-widgets/base",
            "_view_module_version": "1.2.0",
            "_view_name": "LayoutView",
            "align_content": null,
            "align_items": null,
            "align_self": null,
            "border": null,
            "bottom": null,
            "display": null,
            "flex": null,
            "flex_flow": null,
            "grid_area": null,
            "grid_auto_columns": null,
            "grid_auto_flow": null,
            "grid_auto_rows": null,
            "grid_column": null,
            "grid_gap": null,
            "grid_row": null,
            "grid_template_areas": null,
            "grid_template_columns": null,
            "grid_template_rows": null,
            "height": null,
            "justify_content": null,
            "justify_items": null,
            "left": null,
            "margin": null,
            "max_height": null,
            "max_width": null,
            "min_height": null,
            "min_width": null,
            "object_fit": null,
            "object_position": null,
            "order": null,
            "overflow": null,
            "overflow_x": null,
            "overflow_y": null,
            "padding": null,
            "right": null,
            "top": null,
            "visibility": null,
            "width": null
          }
        },
        "d06c665635ee48689726ff9e005e297a": {
          "model_module": "@jupyter-widgets/controls",
          "model_name": "DescriptionStyleModel",
          "model_module_version": "1.5.0",
          "state": {
            "_model_module": "@jupyter-widgets/controls",
            "_model_module_version": "1.5.0",
            "_model_name": "DescriptionStyleModel",
            "_view_count": null,
            "_view_module": "@jupyter-widgets/base",
            "_view_module_version": "1.2.0",
            "_view_name": "StyleView",
            "description_width": ""
          }
        }
      }
    }
  },
  "cells": [
    {
      "cell_type": "markdown",
      "metadata": {
        "id": "view-in-github",
        "colab_type": "text"
      },
      "source": [
        "<a href=\"https://colab.research.google.com/github/jamesburrell2/NBXplorer/blob/master/ResNet50_Classifier_Project_(IBM).ipynb\" target=\"_parent\"><img src=\"https://colab.research.google.com/assets/colab-badge.svg\" alt=\"Open In Colab\"/></a>"
      ]
    },
    {
      "cell_type": "markdown",
      "source": [
        "Building a classifier with ResNet50"
      ],
      "metadata": {
        "id": "u015cvtML2KD"
      }
    },
    {
      "cell_type": "code",
      "source": [
        "!pip install skillsnetwork\n",
        "import skillsnetwork"
      ],
      "metadata": {
        "colab": {
          "base_uri": "https://localhost:8080/"
        },
        "id": "FOqwnymeL7N4",
        "outputId": "edbc3794-5311-45f1-c919-31f8b8c0ac53"
      },
      "execution_count": 2,
      "outputs": [
        {
          "output_type": "stream",
          "name": "stdout",
          "text": [
            "Looking in indexes: https://pypi.org/simple, https://us-python.pkg.dev/colab-wheels/public/simple/\n",
            "Collecting skillsnetwork\n",
            "  Downloading skillsnetwork-0.20.6-py3-none-any.whl (26 kB)\n",
            "Requirement already satisfied: ipython in /usr/local/lib/python3.10/dist-packages (from skillsnetwork) (7.34.0)\n",
            "Requirement already satisfied: ipywidgets<8,>=7 in /usr/local/lib/python3.10/dist-packages (from skillsnetwork) (7.7.1)\n",
            "Requirement already satisfied: requests<3,>=2 in /usr/local/lib/python3.10/dist-packages (from skillsnetwork) (2.27.1)\n",
            "Requirement already satisfied: tqdm<5,>=4 in /usr/local/lib/python3.10/dist-packages (from skillsnetwork) (4.65.0)\n",
            "Requirement already satisfied: ipykernel>=4.5.1 in /usr/local/lib/python3.10/dist-packages (from ipywidgets<8,>=7->skillsnetwork) (5.5.6)\n",
            "Requirement already satisfied: ipython-genutils~=0.2.0 in /usr/local/lib/python3.10/dist-packages (from ipywidgets<8,>=7->skillsnetwork) (0.2.0)\n",
            "Requirement already satisfied: traitlets>=4.3.1 in /usr/local/lib/python3.10/dist-packages (from ipywidgets<8,>=7->skillsnetwork) (5.7.1)\n",
            "Requirement already satisfied: widgetsnbextension~=3.6.0 in /usr/local/lib/python3.10/dist-packages (from ipywidgets<8,>=7->skillsnetwork) (3.6.4)\n",
            "Requirement already satisfied: jupyterlab-widgets>=1.0.0 in /usr/local/lib/python3.10/dist-packages (from ipywidgets<8,>=7->skillsnetwork) (3.0.7)\n",
            "Requirement already satisfied: setuptools>=18.5 in /usr/local/lib/python3.10/dist-packages (from ipython->skillsnetwork) (67.7.2)\n",
            "Collecting jedi>=0.16 (from ipython->skillsnetwork)\n",
            "  Downloading jedi-0.18.2-py2.py3-none-any.whl (1.6 MB)\n",
            "\u001b[2K     \u001b[90m━━━━━━━━━━━━━━━━━━━━━━━━━━━━━━━━━━━━━━━━\u001b[0m \u001b[32m1.6/1.6 MB\u001b[0m \u001b[31m80.2 MB/s\u001b[0m eta \u001b[36m0:00:00\u001b[0m\n",
            "\u001b[?25hRequirement already satisfied: decorator in /usr/local/lib/python3.10/dist-packages (from ipython->skillsnetwork) (4.4.2)\n",
            "Requirement already satisfied: pickleshare in /usr/local/lib/python3.10/dist-packages (from ipython->skillsnetwork) (0.7.5)\n",
            "Requirement already satisfied: prompt-toolkit!=3.0.0,!=3.0.1,<3.1.0,>=2.0.0 in /usr/local/lib/python3.10/dist-packages (from ipython->skillsnetwork) (3.0.38)\n",
            "Requirement already satisfied: pygments in /usr/local/lib/python3.10/dist-packages (from ipython->skillsnetwork) (2.14.0)\n",
            "Requirement already satisfied: backcall in /usr/local/lib/python3.10/dist-packages (from ipython->skillsnetwork) (0.2.0)\n",
            "Requirement already satisfied: matplotlib-inline in /usr/local/lib/python3.10/dist-packages (from ipython->skillsnetwork) (0.1.6)\n",
            "Requirement already satisfied: pexpect>4.3 in /usr/local/lib/python3.10/dist-packages (from ipython->skillsnetwork) (4.8.0)\n",
            "Requirement already satisfied: urllib3<1.27,>=1.21.1 in /usr/local/lib/python3.10/dist-packages (from requests<3,>=2->skillsnetwork) (1.26.16)\n",
            "Requirement already satisfied: certifi>=2017.4.17 in /usr/local/lib/python3.10/dist-packages (from requests<3,>=2->skillsnetwork) (2023.5.7)\n",
            "Requirement already satisfied: charset-normalizer~=2.0.0 in /usr/local/lib/python3.10/dist-packages (from requests<3,>=2->skillsnetwork) (2.0.12)\n",
            "Requirement already satisfied: idna<4,>=2.5 in /usr/local/lib/python3.10/dist-packages (from requests<3,>=2->skillsnetwork) (3.4)\n",
            "Requirement already satisfied: jupyter-client in /usr/local/lib/python3.10/dist-packages (from ipykernel>=4.5.1->ipywidgets<8,>=7->skillsnetwork) (6.1.12)\n",
            "Requirement already satisfied: tornado>=4.2 in /usr/local/lib/python3.10/dist-packages (from ipykernel>=4.5.1->ipywidgets<8,>=7->skillsnetwork) (6.3.1)\n",
            "Requirement already satisfied: parso<0.9.0,>=0.8.0 in /usr/local/lib/python3.10/dist-packages (from jedi>=0.16->ipython->skillsnetwork) (0.8.3)\n",
            "Requirement already satisfied: ptyprocess>=0.5 in /usr/local/lib/python3.10/dist-packages (from pexpect>4.3->ipython->skillsnetwork) (0.7.0)\n",
            "Requirement already satisfied: wcwidth in /usr/local/lib/python3.10/dist-packages (from prompt-toolkit!=3.0.0,!=3.0.1,<3.1.0,>=2.0.0->ipython->skillsnetwork) (0.2.6)\n",
            "Requirement already satisfied: notebook>=4.4.1 in /usr/local/lib/python3.10/dist-packages (from widgetsnbextension~=3.6.0->ipywidgets<8,>=7->skillsnetwork) (6.4.8)\n",
            "Requirement already satisfied: jinja2 in /usr/local/lib/python3.10/dist-packages (from notebook>=4.4.1->widgetsnbextension~=3.6.0->ipywidgets<8,>=7->skillsnetwork) (3.1.2)\n",
            "Requirement already satisfied: pyzmq>=17 in /usr/local/lib/python3.10/dist-packages (from notebook>=4.4.1->widgetsnbextension~=3.6.0->ipywidgets<8,>=7->skillsnetwork) (23.2.1)\n",
            "Requirement already satisfied: argon2-cffi in /usr/local/lib/python3.10/dist-packages (from notebook>=4.4.1->widgetsnbextension~=3.6.0->ipywidgets<8,>=7->skillsnetwork) (21.3.0)\n",
            "Requirement already satisfied: jupyter-core>=4.6.1 in /usr/local/lib/python3.10/dist-packages (from notebook>=4.4.1->widgetsnbextension~=3.6.0->ipywidgets<8,>=7->skillsnetwork) (5.3.1)\n",
            "Requirement already satisfied: nbformat in /usr/local/lib/python3.10/dist-packages (from notebook>=4.4.1->widgetsnbextension~=3.6.0->ipywidgets<8,>=7->skillsnetwork) (5.9.0)\n",
            "Requirement already satisfied: nbconvert in /usr/local/lib/python3.10/dist-packages (from notebook>=4.4.1->widgetsnbextension~=3.6.0->ipywidgets<8,>=7->skillsnetwork) (6.5.4)\n",
            "Requirement already satisfied: nest-asyncio>=1.5 in /usr/local/lib/python3.10/dist-packages (from notebook>=4.4.1->widgetsnbextension~=3.6.0->ipywidgets<8,>=7->skillsnetwork) (1.5.6)\n",
            "Requirement already satisfied: Send2Trash>=1.8.0 in /usr/local/lib/python3.10/dist-packages (from notebook>=4.4.1->widgetsnbextension~=3.6.0->ipywidgets<8,>=7->skillsnetwork) (1.8.2)\n",
            "Requirement already satisfied: terminado>=0.8.3 in /usr/local/lib/python3.10/dist-packages (from notebook>=4.4.1->widgetsnbextension~=3.6.0->ipywidgets<8,>=7->skillsnetwork) (0.17.1)\n",
            "Requirement already satisfied: prometheus-client in /usr/local/lib/python3.10/dist-packages (from notebook>=4.4.1->widgetsnbextension~=3.6.0->ipywidgets<8,>=7->skillsnetwork) (0.17.0)\n",
            "Requirement already satisfied: python-dateutil>=2.1 in /usr/local/lib/python3.10/dist-packages (from jupyter-client->ipykernel>=4.5.1->ipywidgets<8,>=7->skillsnetwork) (2.8.2)\n",
            "Requirement already satisfied: platformdirs>=2.5 in /usr/local/lib/python3.10/dist-packages (from jupyter-core>=4.6.1->notebook>=4.4.1->widgetsnbextension~=3.6.0->ipywidgets<8,>=7->skillsnetwork) (3.7.0)\n",
            "Requirement already satisfied: six>=1.5 in /usr/local/lib/python3.10/dist-packages (from python-dateutil>=2.1->jupyter-client->ipykernel>=4.5.1->ipywidgets<8,>=7->skillsnetwork) (1.16.0)\n",
            "Requirement already satisfied: argon2-cffi-bindings in /usr/local/lib/python3.10/dist-packages (from argon2-cffi->notebook>=4.4.1->widgetsnbextension~=3.6.0->ipywidgets<8,>=7->skillsnetwork) (21.2.0)\n",
            "Requirement already satisfied: MarkupSafe>=2.0 in /usr/local/lib/python3.10/dist-packages (from jinja2->notebook>=4.4.1->widgetsnbextension~=3.6.0->ipywidgets<8,>=7->skillsnetwork) (2.1.3)\n",
            "Requirement already satisfied: lxml in /usr/local/lib/python3.10/dist-packages (from nbconvert->notebook>=4.4.1->widgetsnbextension~=3.6.0->ipywidgets<8,>=7->skillsnetwork) (4.9.2)\n",
            "Requirement already satisfied: beautifulsoup4 in /usr/local/lib/python3.10/dist-packages (from nbconvert->notebook>=4.4.1->widgetsnbextension~=3.6.0->ipywidgets<8,>=7->skillsnetwork) (4.11.2)\n",
            "Requirement already satisfied: bleach in /usr/local/lib/python3.10/dist-packages (from nbconvert->notebook>=4.4.1->widgetsnbextension~=3.6.0->ipywidgets<8,>=7->skillsnetwork) (6.0.0)\n",
            "Requirement already satisfied: defusedxml in /usr/local/lib/python3.10/dist-packages (from nbconvert->notebook>=4.4.1->widgetsnbextension~=3.6.0->ipywidgets<8,>=7->skillsnetwork) (0.7.1)\n",
            "Requirement already satisfied: entrypoints>=0.2.2 in /usr/local/lib/python3.10/dist-packages (from nbconvert->notebook>=4.4.1->widgetsnbextension~=3.6.0->ipywidgets<8,>=7->skillsnetwork) (0.4)\n",
            "Requirement already satisfied: jupyterlab-pygments in /usr/local/lib/python3.10/dist-packages (from nbconvert->notebook>=4.4.1->widgetsnbextension~=3.6.0->ipywidgets<8,>=7->skillsnetwork) (0.2.2)\n",
            "Requirement already satisfied: mistune<2,>=0.8.1 in /usr/local/lib/python3.10/dist-packages (from nbconvert->notebook>=4.4.1->widgetsnbextension~=3.6.0->ipywidgets<8,>=7->skillsnetwork) (0.8.4)\n",
            "Requirement already satisfied: nbclient>=0.5.0 in /usr/local/lib/python3.10/dist-packages (from nbconvert->notebook>=4.4.1->widgetsnbextension~=3.6.0->ipywidgets<8,>=7->skillsnetwork) (0.8.0)\n",
            "Requirement already satisfied: packaging in /usr/local/lib/python3.10/dist-packages (from nbconvert->notebook>=4.4.1->widgetsnbextension~=3.6.0->ipywidgets<8,>=7->skillsnetwork) (23.1)\n",
            "Requirement already satisfied: pandocfilters>=1.4.1 in /usr/local/lib/python3.10/dist-packages (from nbconvert->notebook>=4.4.1->widgetsnbextension~=3.6.0->ipywidgets<8,>=7->skillsnetwork) (1.5.0)\n",
            "Requirement already satisfied: tinycss2 in /usr/local/lib/python3.10/dist-packages (from nbconvert->notebook>=4.4.1->widgetsnbextension~=3.6.0->ipywidgets<8,>=7->skillsnetwork) (1.2.1)\n",
            "Requirement already satisfied: fastjsonschema in /usr/local/lib/python3.10/dist-packages (from nbformat->notebook>=4.4.1->widgetsnbextension~=3.6.0->ipywidgets<8,>=7->skillsnetwork) (2.17.1)\n",
            "Requirement already satisfied: jsonschema>=2.6 in /usr/local/lib/python3.10/dist-packages (from nbformat->notebook>=4.4.1->widgetsnbextension~=3.6.0->ipywidgets<8,>=7->skillsnetwork) (4.3.3)\n",
            "Requirement already satisfied: attrs>=17.4.0 in /usr/local/lib/python3.10/dist-packages (from jsonschema>=2.6->nbformat->notebook>=4.4.1->widgetsnbextension~=3.6.0->ipywidgets<8,>=7->skillsnetwork) (23.1.0)\n",
            "Requirement already satisfied: pyrsistent!=0.17.0,!=0.17.1,!=0.17.2,>=0.14.0 in /usr/local/lib/python3.10/dist-packages (from jsonschema>=2.6->nbformat->notebook>=4.4.1->widgetsnbextension~=3.6.0->ipywidgets<8,>=7->skillsnetwork) (0.19.3)\n",
            "Requirement already satisfied: cffi>=1.0.1 in /usr/local/lib/python3.10/dist-packages (from argon2-cffi-bindings->argon2-cffi->notebook>=4.4.1->widgetsnbextension~=3.6.0->ipywidgets<8,>=7->skillsnetwork) (1.15.1)\n",
            "Requirement already satisfied: soupsieve>1.2 in /usr/local/lib/python3.10/dist-packages (from beautifulsoup4->nbconvert->notebook>=4.4.1->widgetsnbextension~=3.6.0->ipywidgets<8,>=7->skillsnetwork) (2.4.1)\n",
            "Requirement already satisfied: webencodings in /usr/local/lib/python3.10/dist-packages (from bleach->nbconvert->notebook>=4.4.1->widgetsnbextension~=3.6.0->ipywidgets<8,>=7->skillsnetwork) (0.5.1)\n",
            "Requirement already satisfied: pycparser in /usr/local/lib/python3.10/dist-packages (from cffi>=1.0.1->argon2-cffi-bindings->argon2-cffi->notebook>=4.4.1->widgetsnbextension~=3.6.0->ipywidgets<8,>=7->skillsnetwork) (2.21)\n",
            "Installing collected packages: jedi, skillsnetwork\n",
            "Successfully installed jedi-0.18.2 skillsnetwork-0.20.6\n"
          ]
        }
      ]
    },
    {
      "cell_type": "code",
      "source": [
        "import keras #import Keras library\n",
        "from keras.preprocessing.image import ImageDataGenerator #Image Datagenerator"
      ],
      "metadata": {
        "id": "wUsx8n1GMGk-"
      },
      "execution_count": 3,
      "outputs": []
    },
    {
      "cell_type": "code",
      "source": [
        "from keras.models import Sequential #More of the Kera library\n",
        "from keras.layers import Dense"
      ],
      "metadata": {
        "id": "3WEBtPWsMrew"
      },
      "execution_count": 4,
      "outputs": []
    },
    {
      "cell_type": "code",
      "source": [
        "from keras.applications import ResNet50 #ResNet50 is a model to build classifier\n",
        "from keras.applications.resnet50 import preprocess_input"
      ],
      "metadata": {
        "colab": {
          "base_uri": "https://localhost:8080/",
          "height": 322
        },
        "id": "zePsUBiNNCVN",
        "outputId": "395fa001-8cd5-4051-b576-74b8063188c1"
      },
      "execution_count": 5,
      "outputs": [
        {
          "output_type": "error",
          "ename": "ModuleNotFoundError",
          "evalue": "ignored",
          "traceback": [
            "\u001b[0;31m---------------------------------------------------------------------------\u001b[0m",
            "\u001b[0;31mModuleNotFoundError\u001b[0m                       Traceback (most recent call last)",
            "\u001b[0;32m<ipython-input-5-a4c6ffd07d69>\u001b[0m in \u001b[0;36m<cell line: 2>\u001b[0;34m()\u001b[0m\n\u001b[1;32m      1\u001b[0m \u001b[0;32mfrom\u001b[0m \u001b[0mkeras\u001b[0m\u001b[0;34m.\u001b[0m\u001b[0mapplications\u001b[0m \u001b[0;32mimport\u001b[0m \u001b[0mResNet50\u001b[0m \u001b[0;31m#ResNet50 is a model to build classifier\u001b[0m\u001b[0;34m\u001b[0m\u001b[0;34m\u001b[0m\u001b[0m\n\u001b[0;32m----> 2\u001b[0;31m \u001b[0;32mfrom\u001b[0m \u001b[0mkeras\u001b[0m\u001b[0;34m.\u001b[0m\u001b[0mapplications\u001b[0m\u001b[0;34m.\u001b[0m\u001b[0mresnet50\u001b[0m \u001b[0;32mimport\u001b[0m \u001b[0mpreprocess_input\u001b[0m\u001b[0;34m\u001b[0m\u001b[0;34m\u001b[0m\u001b[0m\n\u001b[0m",
            "\u001b[0;31mModuleNotFoundError\u001b[0m: No module named 'keras.applications.resnet50'",
            "",
            "\u001b[0;31m---------------------------------------------------------------------------\u001b[0;32m\nNOTE: If your import is failing due to a missing package, you can\nmanually install dependencies using either !pip or !apt.\n\nTo view examples of installing some common dependencies, click the\n\"Open Examples\" button below.\n\u001b[0;31m---------------------------------------------------------------------------\u001b[0m\n"
          ],
          "errorDetails": {
            "actions": [
              {
                "action": "open_url",
                "actionText": "Open Examples",
                "url": "/notebooks/snippets/importing_libraries.ipynb"
              }
            ]
          }
        }
      ]
    },
    {
      "cell_type": "code",
      "source": [
        "from keras.applications import ResNet50 #ResNet50 Model"
      ],
      "metadata": {
        "id": "WpyGxZ9kNRdm"
      },
      "execution_count": 9,
      "outputs": []
    },
    {
      "cell_type": "code",
      "source": [
        "from keras.applications.resnet import ResNet50 #Workaround to import all of ResNet"
      ],
      "metadata": {
        "id": "IRVf_qSRNcyz"
      },
      "execution_count": 13,
      "outputs": []
    },
    {
      "cell_type": "code",
      "source": [
        "#Get the data for the project\n",
        "await skillsnetwork.prepare(\"https://s3-api.us-geo.objectstorage.softlayer.net/cf-courses-data/CognitiveClass/DL0321EN/data/concrete_data_week3.zip\", overwrite=True)"
      ],
      "metadata": {
        "colab": {
          "base_uri": "https://localhost:8080/",
          "height": 98,
          "referenced_widgets": [
            "e58295b02114460c83e6a942c4f0275e",
            "516dd055c21d4ae1b92a2381633a5148",
            "92a292aec62e40ff8a34c0b394e80ad5",
            "abfb9bb726814c8d97566d7b0a521444",
            "2e8ad8db93c04addbb94da2dae2f1c01",
            "96adc6072550443db78f054bb99c8723",
            "fee5dfa041854cd596a8abf4144169ed",
            "20eb02ccbe3b4b52aefa7c8b81ad8de8",
            "a27a9ff88fa74d2b8515c88b3f8eaf05",
            "19faf0036eb54460837b357d6249f9e8",
            "50e7057e28534b319a9624d1f57b01d9",
            "33578f708ae1463cb9c333264663d065",
            "8feb71a5199a4a86a23742a8c6a8608b",
            "cd0064d4581d4b40bae6c30dfa71ecb7",
            "1a060fc1a1f94c99b1417de06b318775",
            "d0cd6ae9a26d4f83ae61074d5918bd9e",
            "702ce89784674f318e354431f928485e",
            "be07503e11644a62bb9ae7c71ee78ba9",
            "ea744f91d24842a79cd29f37dc202d91",
            "e417f0cdc39748d283daf4ce6b2f0b61",
            "fa2444ec64f64afe88ba138fb82c96e3",
            "d06c665635ee48689726ff9e005e297a"
          ]
        },
        "id": "k0H3wDQINzXK",
        "outputId": "571b306f-9ee0-4168-bf7c-37a7d8dc24a6"
      },
      "execution_count": 14,
      "outputs": [
        {
          "output_type": "display_data",
          "data": {
            "text/plain": [
              "Downloading concrete_data_week3.zip:   0%|          | 0/261482368 [00:00<?, ?it/s]"
            ],
            "application/vnd.jupyter.widget-view+json": {
              "version_major": 2,
              "version_minor": 0,
              "model_id": "e58295b02114460c83e6a942c4f0275e"
            }
          },
          "metadata": {}
        },
        {
          "output_type": "display_data",
          "data": {
            "text/plain": [
              "  0%|          | 0/80037 [00:00<?, ?it/s]"
            ],
            "application/vnd.jupyter.widget-view+json": {
              "version_major": 2,
              "version_minor": 0,
              "model_id": "33578f708ae1463cb9c333264663d065"
            }
          },
          "metadata": {}
        },
        {
          "output_type": "stream",
          "name": "stdout",
          "text": [
            "Saved to '.'\n"
          ]
        }
      ]
    },
    {
      "cell_type": "markdown",
      "source": [
        "Define Global Constants after uploading data\n",
        "Only 2 classes of data so num_classes =2\n",
        "ResNet50 model use 224x224 image size so resize to model's parameter\n",
        "Using 100 image batches"
      ],
      "metadata": {
        "id": "8crDDd5KPHmT"
      }
    },
    {
      "cell_type": "code",
      "source": [
        "#Number of classes is two\n",
        "num_classes = 2\n",
        "\n",
        "image_resize =224\n",
        "\n",
        "batch_size_training = 100\n",
        "batch_size_validation = 100"
      ],
      "metadata": {
        "id": "-GexdxxkPPkW"
      },
      "execution_count": 15,
      "outputs": []
    },
    {
      "cell_type": "code",
      "source": [
        "from keras.applications.resnet import preprocess_input"
      ],
      "metadata": {
        "id": "DICZrlyCQLio"
      },
      "execution_count": 18,
      "outputs": []
    },
    {
      "cell_type": "code",
      "source": [
        "#Construct ImageDataGenerator Instances\n",
        "\n",
        "data_generator = ImageDataGenerator(\n",
        "    preprocessing_function=preprocess_input,\n",
        ")"
      ],
      "metadata": {
        "id": "_kVgv3nPPzod"
      },
      "execution_count": 19,
      "outputs": []
    },
    {
      "cell_type": "code",
      "source": [
        "#Use flow_from_directory to get training images\n",
        "train_generator = data_generator.flow_from_directory(\n",
        "    'concrete_data_week3/train',\n",
        "    target_size=(image_resize, image_resize),\n",
        "    batch_size=batch_size_training,\n",
        "    class_mode='categorical'\n",
        ")"
      ],
      "metadata": {
        "colab": {
          "base_uri": "https://localhost:8080/"
        },
        "id": "bhTfAlEDQe4R",
        "outputId": "376d9a47-90c2-4e3e-b2e9-54b6a7af8e92"
      },
      "execution_count": 20,
      "outputs": [
        {
          "output_type": "stream",
          "name": "stdout",
          "text": [
            "Found 30001 images belonging to 2 classes.\n"
          ]
        }
      ]
    },
    {
      "cell_type": "code",
      "source": [
        "#Use flow_from_directory to get validation images\n",
        "validation_generator = data_generator.flow_from_directory(\n",
        "    'concrete_data_week3/valid',\n",
        "    target_size=(image_resize, image_resize),\n",
        "    batch_size=batch_size_training,\n",
        "    class_mode='categorical'\n",
        ")"
      ],
      "metadata": {
        "colab": {
          "base_uri": "https://localhost:8080/"
        },
        "id": "g2omZzouR29Y",
        "outputId": "d820bcb5-b6cb-4d99-8a3c-f70911d82748"
      },
      "execution_count": 21,
      "outputs": [
        {
          "output_type": "stream",
          "name": "stdout",
          "text": [
            "Found 10001 images belonging to 2 classes.\n"
          ]
        }
      ]
    },
    {
      "cell_type": "code",
      "source": [
        "#Build, Compile and Fit Model\n",
        "\n",
        "model = Sequential()"
      ],
      "metadata": {
        "id": "SW3ieEEUSTLR"
      },
      "execution_count": 22,
      "outputs": []
    },
    {
      "cell_type": "code",
      "source": [
        "# Adding ResNet50 pre-trained model to our model. But we don't want to include the pre-trained model's output layer;\n",
        "# We'd rather define our own output layer (top layer)\n",
        "# To remove pre-trained model's output layer, set \"include_top\" to False\n",
        "\n",
        "model.add(ResNet50(\n",
        "    include_top=False,\n",
        "    pooling='avg',\n",
        "    weights='imagenet',\n",
        "))"
      ],
      "metadata": {
        "colab": {
          "base_uri": "https://localhost:8080/"
        },
        "id": "4-VHmDRLSgF1",
        "outputId": "7a28a70a-72d4-4986-a898-6f628591f28a"
      },
      "execution_count": 23,
      "outputs": [
        {
          "output_type": "stream",
          "name": "stdout",
          "text": [
            "Downloading data from https://storage.googleapis.com/tensorflow/keras-applications/resnet/resnet50_weights_tf_dim_ordering_tf_kernels_notop.h5\n",
            "94765736/94765736 [==============================] - 0s 0us/step\n"
          ]
        }
      ]
    },
    {
      "cell_type": "code",
      "source": [
        "model.add(Dense(num_classes, activation='softmax'))"
      ],
      "metadata": {
        "id": "4Ssin8hAUBTA"
      },
      "execution_count": 24,
      "outputs": []
    },
    {
      "cell_type": "code",
      "source": [
        "#To access model's layers, use layers attribute of our model object\n",
        "model.layers"
      ],
      "metadata": {
        "colab": {
          "base_uri": "https://localhost:8080/"
        },
        "id": "63lrffyUU0dW",
        "outputId": "2b7303a9-a506-4c87-ab02-a272bae5413a"
      },
      "execution_count": 25,
      "outputs": [
        {
          "output_type": "execute_result",
          "data": {
            "text/plain": [
              "[<keras.engine.functional.Functional at 0x7f8948d536a0>,\n",
              " <keras.layers.core.dense.Dense at 0x7f8948cf5fc0>]"
            ]
          },
          "metadata": {},
          "execution_count": 25
        }
      ]
    },
    {
      "cell_type": "code",
      "source": [
        "#To see ResNet50 layers run\n",
        "model.layers[0].layers"
      ],
      "metadata": {
        "colab": {
          "base_uri": "https://localhost:8080/"
        },
        "id": "6hGy26Q9VGFa",
        "outputId": "3b21a987-1338-41e0-cdd6-4789fa4c2630"
      },
      "execution_count": 26,
      "outputs": [
        {
          "output_type": "execute_result",
          "data": {
            "text/plain": [
              "[<keras.engine.input_layer.InputLayer at 0x7f894adec4f0>,\n",
              " <keras.layers.reshaping.zero_padding2d.ZeroPadding2D at 0x7f894adefaf0>,\n",
              " <keras.layers.convolutional.conv2d.Conv2D at 0x7f894aded510>,\n",
              " <keras.layers.normalization.batch_normalization.BatchNormalization at 0x7f894adee680>,\n",
              " <keras.layers.core.activation.Activation at 0x7f894adedbd0>,\n",
              " <keras.layers.reshaping.zero_padding2d.ZeroPadding2D at 0x7f894ab22f80>,\n",
              " <keras.layers.pooling.max_pooling2d.MaxPooling2D at 0x7f894ad5d210>,\n",
              " <keras.layers.convolutional.conv2d.Conv2D at 0x7f894ad5d7b0>,\n",
              " <keras.layers.normalization.batch_normalization.BatchNormalization at 0x7f894ad5c190>,\n",
              " <keras.layers.core.activation.Activation at 0x7f894ad791e0>,\n",
              " <keras.layers.convolutional.conv2d.Conv2D at 0x7f894ad78a00>,\n",
              " <keras.layers.normalization.batch_normalization.BatchNormalization at 0x7f894ad7ac20>,\n",
              " <keras.layers.core.activation.Activation at 0x7f894ad7a920>,\n",
              " <keras.layers.convolutional.conv2d.Conv2D at 0x7f894ad5e170>,\n",
              " <keras.layers.convolutional.conv2d.Conv2D at 0x7f894ad79120>,\n",
              " <keras.layers.normalization.batch_normalization.BatchNormalization at 0x7f894ad5ec50>,\n",
              " <keras.layers.normalization.batch_normalization.BatchNormalization at 0x7f894ad7beb0>,\n",
              " <keras.layers.merging.add.Add at 0x7f894ad7b790>,\n",
              " <keras.layers.core.activation.Activation at 0x7f8948d94550>,\n",
              " <keras.layers.convolutional.conv2d.Conv2D at 0x7f8948d96980>,\n",
              " <keras.layers.normalization.batch_normalization.BatchNormalization at 0x7f8948d97970>,\n",
              " <keras.layers.core.activation.Activation at 0x7f8948d96740>,\n",
              " <keras.layers.convolutional.conv2d.Conv2D at 0x7f8948d97e80>,\n",
              " <keras.layers.normalization.batch_normalization.BatchNormalization at 0x7f8948d94be0>,\n",
              " <keras.layers.core.activation.Activation at 0x7f8948da4fa0>,\n",
              " <keras.layers.convolutional.conv2d.Conv2D at 0x7f8948da6140>,\n",
              " <keras.layers.normalization.batch_normalization.BatchNormalization at 0x7f8948da7910>,\n",
              " <keras.layers.merging.add.Add at 0x7f8948da7d00>,\n",
              " <keras.layers.core.activation.Activation at 0x7f8948da4b50>,\n",
              " <keras.layers.convolutional.conv2d.Conv2D at 0x7f894ad7a950>,\n",
              " <keras.layers.normalization.batch_normalization.BatchNormalization at 0x7f8948d95840>,\n",
              " <keras.layers.core.activation.Activation at 0x7f8948da5b70>,\n",
              " <keras.layers.convolutional.conv2d.Conv2D at 0x7f894adec640>,\n",
              " <keras.layers.normalization.batch_normalization.BatchNormalization at 0x7f8948d95930>,\n",
              " <keras.layers.core.activation.Activation at 0x7f8948dbd2d0>,\n",
              " <keras.layers.convolutional.conv2d.Conv2D at 0x7f8948dbdc60>,\n",
              " <keras.layers.normalization.batch_normalization.BatchNormalization at 0x7f8948dbedd0>,\n",
              " <keras.layers.merging.add.Add at 0x7f8948d94a30>,\n",
              " <keras.layers.core.activation.Activation at 0x7f8948dbf970>,\n",
              " <keras.layers.convolutional.conv2d.Conv2D at 0x7f8948dbd450>,\n",
              " <keras.layers.normalization.batch_normalization.BatchNormalization at 0x7f8948dca020>,\n",
              " <keras.layers.core.activation.Activation at 0x7f8948dcb760>,\n",
              " <keras.layers.convolutional.conv2d.Conv2D at 0x7f8948dcb4c0>,\n",
              " <keras.layers.normalization.batch_normalization.BatchNormalization at 0x7f8948dc8cd0>,\n",
              " <keras.layers.core.activation.Activation at 0x7f8948dcaec0>,\n",
              " <keras.layers.convolutional.conv2d.Conv2D at 0x7f8948dbf430>,\n",
              " <keras.layers.convolutional.conv2d.Conv2D at 0x7f8948dde7a0>,\n",
              " <keras.layers.normalization.batch_normalization.BatchNormalization at 0x7f8948dc8940>,\n",
              " <keras.layers.normalization.batch_normalization.BatchNormalization at 0x7f8948ddf5e0>,\n",
              " <keras.layers.merging.add.Add at 0x7f8948ddf9d0>,\n",
              " <keras.layers.core.activation.Activation at 0x7f8948ddef20>,\n",
              " <keras.layers.convolutional.conv2d.Conv2D at 0x7f8948df53c0>,\n",
              " <keras.layers.normalization.batch_normalization.BatchNormalization at 0x7f8948df63b0>,\n",
              " <keras.layers.core.activation.Activation at 0x7f8948df71c0>,\n",
              " <keras.layers.convolutional.conv2d.Conv2D at 0x7f8948df6650>,\n",
              " <keras.layers.normalization.batch_normalization.BatchNormalization at 0x7f8948df48b0>,\n",
              " <keras.layers.core.activation.Activation at 0x7f8948df7e50>,\n",
              " <keras.layers.convolutional.conv2d.Conv2D at 0x7f8948e0d7e0>,\n",
              " <keras.layers.normalization.batch_normalization.BatchNormalization at 0x7f8948e0e860>,\n",
              " <keras.layers.merging.add.Add at 0x7f8948e0ec50>,\n",
              " <keras.layers.core.activation.Activation at 0x7f8948e0f3d0>,\n",
              " <keras.layers.convolutional.conv2d.Conv2D at 0x7f8948e24580>,\n",
              " <keras.layers.normalization.batch_normalization.BatchNormalization at 0x7f8948e0f970>,\n",
              " <keras.layers.core.activation.Activation at 0x7f8948e0d5d0>,\n",
              " <keras.layers.convolutional.conv2d.Conv2D at 0x7f8948df7a00>,\n",
              " <keras.layers.normalization.batch_normalization.BatchNormalization at 0x7f8948dde320>,\n",
              " <keras.layers.core.activation.Activation at 0x7f8948dddf30>,\n",
              " <keras.layers.convolutional.conv2d.Conv2D at 0x7f8948dc94e0>,\n",
              " <keras.layers.normalization.batch_normalization.BatchNormalization at 0x7f894ad78370>,\n",
              " <keras.layers.merging.add.Add at 0x7f8948e0d660>,\n",
              " <keras.layers.core.activation.Activation at 0x7f8948e25120>,\n",
              " <keras.layers.convolutional.conv2d.Conv2D at 0x7f8948e26e00>,\n",
              " <keras.layers.normalization.batch_normalization.BatchNormalization at 0x7f8948e27e80>,\n",
              " <keras.layers.core.activation.Activation at 0x7f8948e26cb0>,\n",
              " <keras.layers.convolutional.conv2d.Conv2D at 0x7f8948e38490>,\n",
              " <keras.layers.normalization.batch_normalization.BatchNormalization at 0x7f8948e39540>,\n",
              " <keras.layers.core.activation.Activation at 0x7f8948e397e0>,\n",
              " <keras.layers.convolutional.conv2d.Conv2D at 0x7f8948e3a680>,\n",
              " <keras.layers.normalization.batch_normalization.BatchNormalization at 0x7f8948e3be50>,\n",
              " <keras.layers.merging.add.Add at 0x7f8948e3b130>,\n",
              " <keras.layers.core.activation.Activation at 0x7f8948e488b0>,\n",
              " <keras.layers.convolutional.conv2d.Conv2D at 0x7f8948e4aad0>,\n",
              " <keras.layers.normalization.batch_normalization.BatchNormalization at 0x7f8948e4bb20>,\n",
              " <keras.layers.core.activation.Activation at 0x7f8948e49660>,\n",
              " <keras.layers.convolutional.conv2d.Conv2D at 0x7f8948e5ca60>,\n",
              " <keras.layers.normalization.batch_normalization.BatchNormalization at 0x7f8948e5e230>,\n",
              " <keras.layers.core.activation.Activation at 0x7f8948e5df60>,\n",
              " <keras.layers.convolutional.conv2d.Conv2D at 0x7f8948e399f0>,\n",
              " <keras.layers.convolutional.conv2d.Conv2D at 0x7f8948e5ec20>,\n",
              " <keras.layers.normalization.batch_normalization.BatchNormalization at 0x7f8948e48760>,\n",
              " <keras.layers.normalization.batch_normalization.BatchNormalization at 0x7f8948e5f7c0>,\n",
              " <keras.layers.merging.add.Add at 0x7f8948e5d990>,\n",
              " <keras.layers.core.activation.Activation at 0x7f8948e6ce20>,\n",
              " <keras.layers.convolutional.conv2d.Conv2D at 0x7f8948e6df30>,\n",
              " <keras.layers.normalization.batch_normalization.BatchNormalization at 0x7f8948e6e2f0>,\n",
              " <keras.layers.core.activation.Activation at 0x7f8948e6f0a0>,\n",
              " <keras.layers.convolutional.conv2d.Conv2D at 0x7f8948e6f7c0>,\n",
              " <keras.layers.normalization.batch_normalization.BatchNormalization at 0x7f8948e6f1f0>,\n",
              " <keras.layers.core.activation.Activation at 0x7f8948e6dc90>,\n",
              " <keras.layers.convolutional.conv2d.Conv2D at 0x7f8948c914b0>,\n",
              " <keras.layers.normalization.batch_normalization.BatchNormalization at 0x7f8948e6e440>,\n",
              " <keras.layers.merging.add.Add at 0x7f8948d947f0>,\n",
              " <keras.layers.core.activation.Activation at 0x7f8948e5c550>,\n",
              " <keras.layers.convolutional.conv2d.Conv2D at 0x7f8948e27c40>,\n",
              " <keras.layers.normalization.batch_normalization.BatchNormalization at 0x7f8948e25fc0>,\n",
              " <keras.layers.core.activation.Activation at 0x7f8948e27fd0>,\n",
              " <keras.layers.convolutional.conv2d.Conv2D at 0x7f8948dcb610>,\n",
              " <keras.layers.normalization.batch_normalization.BatchNormalization at 0x7f8948e5d420>,\n",
              " <keras.layers.core.activation.Activation at 0x7f8948c93b50>,\n",
              " <keras.layers.convolutional.conv2d.Conv2D at 0x7f8948c938b0>,\n",
              " <keras.layers.normalization.batch_normalization.BatchNormalization at 0x7f8948c93b80>,\n",
              " <keras.layers.merging.add.Add at 0x7f8948c93e50>,\n",
              " <keras.layers.core.activation.Activation at 0x7f8948ca2350>,\n",
              " <keras.layers.convolutional.conv2d.Conv2D at 0x7f8948ca33a0>,\n",
              " <keras.layers.normalization.batch_normalization.BatchNormalization at 0x7f8948ca0b50>,\n",
              " <keras.layers.core.activation.Activation at 0x7f8948ca0be0>,\n",
              " <keras.layers.convolutional.conv2d.Conv2D at 0x7f8948ca1d50>,\n",
              " <keras.layers.normalization.batch_normalization.BatchNormalization at 0x7f8948cb46a0>,\n",
              " <keras.layers.core.activation.Activation at 0x7f8948cb6830>,\n",
              " <keras.layers.convolutional.conv2d.Conv2D at 0x7f8948cb7040>,\n",
              " <keras.layers.normalization.batch_normalization.BatchNormalization at 0x7f8948cb7e50>,\n",
              " <keras.layers.merging.add.Add at 0x7f8948cb7070>,\n",
              " <keras.layers.core.activation.Activation at 0x7f894ad854e0>,\n",
              " <keras.layers.convolutional.conv2d.Conv2D at 0x7f894ad85b70>,\n",
              " <keras.layers.normalization.batch_normalization.BatchNormalization at 0x7f894ad86bf0>,\n",
              " <keras.layers.core.activation.Activation at 0x7f894ad87a00>,\n",
              " <keras.layers.convolutional.conv2d.Conv2D at 0x7f894ad876d0>,\n",
              " <keras.layers.normalization.batch_normalization.BatchNormalization at 0x7f894ad87eb0>,\n",
              " <keras.layers.core.activation.Activation at 0x7f894ad85900>,\n",
              " <keras.layers.convolutional.conv2d.Conv2D at 0x7f8948ce2020>,\n",
              " <keras.layers.normalization.batch_normalization.BatchNormalization at 0x7f8948ce3070>,\n",
              " <keras.layers.merging.add.Add at 0x7f8948ce3460>,\n",
              " <keras.layers.core.activation.Activation at 0x7f8948ce3b50>,\n",
              " <keras.layers.convolutional.conv2d.Conv2D at 0x7f8948cf4d90>,\n",
              " <keras.layers.normalization.batch_normalization.BatchNormalization at 0x7f8948cf5e10>,\n",
              " <keras.layers.core.activation.Activation at 0x7f8948cf5360>,\n",
              " <keras.layers.convolutional.conv2d.Conv2D at 0x7f8948cf6c50>,\n",
              " <keras.layers.normalization.batch_normalization.BatchNormalization at 0x7f8948cf7580>,\n",
              " <keras.layers.core.activation.Activation at 0x7f8948cf54b0>,\n",
              " <keras.layers.convolutional.conv2d.Conv2D at 0x7f8948cf49a0>,\n",
              " <keras.layers.normalization.batch_normalization.BatchNormalization at 0x7f894ad84c10>,\n",
              " <keras.layers.merging.add.Add at 0x7f894ad84d60>,\n",
              " <keras.layers.core.activation.Activation at 0x7f8948cf6050>,\n",
              " <keras.layers.convolutional.conv2d.Conv2D at 0x7f8948cb57e0>,\n",
              " <keras.layers.normalization.batch_normalization.BatchNormalization at 0x7f8948ce1f60>,\n",
              " <keras.layers.core.activation.Activation at 0x7f8948cb4730>,\n",
              " <keras.layers.convolutional.conv2d.Conv2D at 0x7f8948d0dd20>,\n",
              " <keras.layers.normalization.batch_normalization.BatchNormalization at 0x7f8948d0f610>,\n",
              " <keras.layers.core.activation.Activation at 0x7f8948d0cfa0>,\n",
              " <keras.layers.convolutional.conv2d.Conv2D at 0x7f8948ca2d40>,\n",
              " <keras.layers.convolutional.conv2d.Conv2D at 0x7f8948d0fe80>,\n",
              " <keras.layers.normalization.batch_normalization.BatchNormalization at 0x7f8948e26b90>,\n",
              " <keras.layers.normalization.batch_normalization.BatchNormalization at 0x7f8948d0eb30>,\n",
              " <keras.layers.merging.add.Add at 0x7f8948d0ec80>,\n",
              " <keras.layers.core.activation.Activation at 0x7f8948d20550>,\n",
              " <keras.layers.convolutional.conv2d.Conv2D at 0x7f8948d223e0>,\n",
              " <keras.layers.normalization.batch_normalization.BatchNormalization at 0x7f8948d22b90>,\n",
              " <keras.layers.core.activation.Activation at 0x7f8948d23f40>,\n",
              " <keras.layers.convolutional.conv2d.Conv2D at 0x7f8948d23bb0>,\n",
              " <keras.layers.normalization.batch_normalization.BatchNormalization at 0x7f8948d233d0>,\n",
              " <keras.layers.core.activation.Activation at 0x7f8948d22d10>,\n",
              " <keras.layers.convolutional.conv2d.Conv2D at 0x7f8948d38f10>,\n",
              " <keras.layers.normalization.batch_normalization.BatchNormalization at 0x7f8948d3b160>,\n",
              " <keras.layers.merging.add.Add at 0x7f8948d22e90>,\n",
              " <keras.layers.core.activation.Activation at 0x7f8948d3b9d0>,\n",
              " <keras.layers.convolutional.conv2d.Conv2D at 0x7f8948d39810>,\n",
              " <keras.layers.normalization.batch_normalization.BatchNormalization at 0x7f8948d3be20>,\n",
              " <keras.layers.core.activation.Activation at 0x7f8948d3bdf0>,\n",
              " <keras.layers.convolutional.conv2d.Conv2D at 0x7f8948d512d0>,\n",
              " <keras.layers.normalization.batch_normalization.BatchNormalization at 0x7f8948d528c0>,\n",
              " <keras.layers.core.activation.Activation at 0x7f8948d53100>,\n",
              " <keras.layers.convolutional.conv2d.Conv2D at 0x7f8948d51de0>,\n",
              " <keras.layers.normalization.batch_normalization.BatchNormalization at 0x7f8948d53340>,\n",
              " <keras.layers.merging.add.Add at 0x7f8948d51270>,\n",
              " <keras.layers.core.activation.Activation at 0x7f8948d517e0>,\n",
              " <keras.layers.pooling.global_average_pooling2d.GlobalAveragePooling2D at 0x7f8948d53dc0>]"
            ]
          },
          "metadata": {},
          "execution_count": 26
        }
      ]
    },
    {
      "cell_type": "code",
      "source": [
        "#We now only need to train our Dense layer since model is pretrained on other layers\n",
        "model.layers[0].trainable=False\n",
        "\n",
        "#Summary attribute is called by the following\n",
        "model.summary()"
      ],
      "metadata": {
        "colab": {
          "base_uri": "https://localhost:8080/"
        },
        "id": "S_VJrbzKVa3X",
        "outputId": "b406d72c-8d53-41e8-9a6e-02271266a112"
      },
      "execution_count": 27,
      "outputs": [
        {
          "output_type": "stream",
          "name": "stdout",
          "text": [
            "Model: \"sequential\"\n",
            "_________________________________________________________________\n",
            " Layer (type)                Output Shape              Param #   \n",
            "=================================================================\n",
            " resnet50 (Functional)       (None, 2048)              23587712  \n",
            "                                                                 \n",
            " dense (Dense)               (None, 2)                 4098      \n",
            "                                                                 \n",
            "=================================================================\n",
            "Total params: 23,591,810\n",
            "Trainable params: 4,098\n",
            "Non-trainable params: 23,587,712\n",
            "_________________________________________________________________\n"
          ]
        }
      ]
    },
    {
      "cell_type": "code",
      "source": [
        "# Compile model using adam optimizer\n",
        "\n",
        "model.compile(optimizer='adam', loss='categorical_crossentropy', metrics=['accuracy'])"
      ],
      "metadata": {
        "id": "U82gIoLsV3SA"
      },
      "execution_count": 28,
      "outputs": []
    },
    {
      "cell_type": "code",
      "source": [
        "# Define how many steps compose an epoch\n",
        "# Typically No of Images/batch_size\n",
        "\n",
        "steps_per_epoch_training = len(train_generator)\n",
        "steps_per_epoch_validation = len(validation_generator)\n",
        "num_epochs = 2"
      ],
      "metadata": {
        "id": "Jaj8aJwrWZUj"
      },
      "execution_count": 29,
      "outputs": []
    },
    {
      "cell_type": "code",
      "source": [
        "#YAY!! Let's train our model\n",
        "# We're using fit_generator method\n",
        "\n",
        "fit_history = model.fit_generator(\n",
        "    train_generator,\n",
        "    steps_per_epoch=steps_per_epoch_training,\n",
        "    epochs=num_epochs,\n",
        "    validation_data=validation_generator,\n",
        "    validation_steps=steps_per_epoch_validation,\n",
        "    verbose=1,\n",
        ")"
      ],
      "metadata": {
        "colab": {
          "base_uri": "https://localhost:8080/"
        },
        "id": "JGg-ozhJW57z",
        "outputId": "7b3387bd-d40c-4025-8e91-a29796437f5b"
      },
      "execution_count": 30,
      "outputs": [
        {
          "metadata": {
            "tags": null
          },
          "name": "stderr",
          "output_type": "stream",
          "text": [
            "<ipython-input-30-1c015ae4f7b7>:4: UserWarning: `Model.fit_generator` is deprecated and will be removed in a future version. Please use `Model.fit`, which supports generators.\n",
            "  fit_history = model.fit_generator(\n"
          ]
        },
        {
          "output_type": "stream",
          "name": "stdout",
          "text": [
            "Epoch 1/2\n",
            "301/301 [==============================] - 5330s 18s/step - loss: 0.0239 - accuracy: 0.9920 - val_loss: 0.0056 - val_accuracy: 0.9989\n",
            "Epoch 2/2\n",
            "301/301 [==============================] - 5233s 17s/step - loss: 0.0049 - accuracy: 0.9991 - val_loss: 0.0039 - val_accuracy: 0.9994\n"
          ]
        }
      ]
    },
    {
      "cell_type": "code",
      "source": [
        "# Save models that you may use again after training\n",
        "\n",
        "model.save('Classifier_resnet_model.h5')"
      ],
      "metadata": {
        "id": "lN0wDk1nXl9Z"
      },
      "execution_count": 31,
      "outputs": []
    }
  ]
}